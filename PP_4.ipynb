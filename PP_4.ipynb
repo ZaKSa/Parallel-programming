{
  "nbformat": 4,
  "nbformat_minor": 0,
  "metadata": {
    "colab": {
      "provenance": [],
      "authorship_tag": "ABX9TyOyGrWW1x/0FXiZwFlu0PEn"
    },
    "kernelspec": {
      "name": "python3",
      "display_name": "Python 3"
    },
    "language_info": {
      "name": "python"
    },
    "gpuClass": "standard",
    "accelerator": "GPU"
  },
  "cells": [
    {
      "cell_type": "code",
      "execution_count": null,
      "metadata": {
        "colab": {
          "base_uri": "https://localhost:8080/"
        },
        "id": "WQhchghcb1AZ",
        "outputId": "7d3ea875-cba8-40d4-b368-24c045ff3260"
      },
      "outputs": [
        {
          "output_type": "stream",
          "name": "stdout",
          "text": [
            "nvcc: NVIDIA (R) Cuda compiler driver\n",
            "Copyright (c) 2005-2021 NVIDIA Corporation\n",
            "Built on Sun_Feb_14_21:12:58_PST_2021\n",
            "Cuda compilation tools, release 11.2, V11.2.152\n",
            "Build cuda_11.2.r11.2/compiler.29618528_0\n",
            "Looking in indexes: https://pypi.org/simple, https://us-python.pkg.dev/colab-wheels/public/simple/\n",
            "Collecting git+https://github.com/andreinechaev/nvcc4jupyter.git\n",
            "  Cloning https://github.com/andreinechaev/nvcc4jupyter.git to /tmp/pip-req-build-0ffas12n\n",
            "  Running command git clone -q https://github.com/andreinechaev/nvcc4jupyter.git /tmp/pip-req-build-0ffas12n\n",
            "Building wheels for collected packages: NVCCPlugin\n",
            "  Building wheel for NVCCPlugin (setup.py) ... \u001b[?25l\u001b[?25hdone\n",
            "  Created wheel for NVCCPlugin: filename=NVCCPlugin-0.0.2-py3-none-any.whl size=4307 sha256=12816fa0f1f33d1365b36b91b7a66e11c02c4afc3be392f690070b254435b9d1\n",
            "  Stored in directory: /tmp/pip-ephem-wheel-cache-hlw4somc/wheels/ca/33/8d/3c86eb85e97d2b6169d95c6e8f2c297fdec60db6e84cb56f5e\n",
            "Successfully built NVCCPlugin\n",
            "Installing collected packages: NVCCPlugin\n",
            "Successfully installed NVCCPlugin-0.0.2\n",
            "created output directory at /content/src\n",
            "Out bin /content/result.out\n",
            "Copying samples to /root/NVIDIA_CUDA-11.2_Samples now...\n",
            "Finished copying samples.\n"
          ]
        }
      ],
      "source": [
        "!/usr/local/cuda/bin/nvcc --version\n",
        "!pip install git+https://github.com/andreinechaev/nvcc4jupyter.git\n",
        "%load_ext nvcc_plugin\n",
        "!cuda-install-samples-11.2.sh ~ && cd /root/NVIDIA_CUDA-11.2_Samples"
      ]
    },
    {
      "cell_type": "code",
      "source": [
        "%%cuda --name curand.cu\n",
        "//Пример 1. Код main - функции\n",
        "#include <cublas_v2.h>\n",
        "#include <malloc.h>\n",
        "#include <stdio.h>\n",
        "#include <stdlib.h>\n",
        "\n",
        "//Пример 2. Код функции ядра\n",
        "__global__ void addKernel(int* c, int* a, int* b, unsigned int size)\n",
        "{\n",
        "    int gridSize = blockDim.x * gridDim.x;\n",
        "        int index = blockIdx.x * blockDim.x + threadIdx.x; //threadIdx.x; // \n",
        "        for (; index < size; index += gridSize) {\n",
        "            if (index < size) {\n",
        "                c[index] = a[index] + b[index]; // Вычислим id нити, в которой происходит суммирование с помощью формулы\n",
        "                \n",
        "            }\n",
        "        }\n",
        "}\n",
        "\n",
        "#define kernel addKernel\n",
        "\n",
        "/*\n",
        "int, 2 400 000 (/ 2 / 4), \n",
        "[(4096, 1024);(2048, 1024);(4096, 256);(2048, 256);(4096, 64);(2048, 64)]\n",
        "тип, исходная размерность массива (делители для получения остальных размерностей), \n",
        "[перечень пар (GridDim,BlockDim)]\n",
        "*/\n",
        "int main(int argc, char* argv[])\n",
        "{\n",
        "\n",
        "    int n = 600000; //количество элементов в суммируемых массивах\n",
        "    int GRID_SIZE = 4096;\n",
        "    int BLOCK_SIZE = 1024;\n",
        "\n",
        "    // Size, in bytes, of each vector\n",
        "    int n2b = n * sizeof(int);\n",
        "\n",
        "    //BLOCK_SIZE - количество нитей в блоке кратное 32\n",
        "    int n2 = n;\n",
        "        //BLOCK_NUMBER * BLOCK_SIZE * sizeof(int);;\n",
        "    \n",
        "\n",
        "    // Выделение памяти на хосте\n",
        "    int* a = (int*)calloc(n2, sizeof(int));\n",
        "    int* b = (int*)calloc(n2, sizeof(int));\n",
        "    int* c = (int*)calloc(n2, sizeof(int));\n",
        "    // Инициализация массивов\n",
        "    for (int i = 0; i < n; i++) {\n",
        "        a[i] = 1;\n",
        "        b[i] = 1;\n",
        "        \n",
        "    }\n",
        "    // Выделение памяти на устройстве\n",
        "    int* adev = NULL;\n",
        "    cudaError_t cuerr = cudaMalloc((void**)&adev, n2b);\n",
        "    if (cuerr != cudaSuccess)\n",
        "    {\n",
        "        fprintf(stderr, \"Cannot allocate device array for a: %s\\n\",\n",
        "            cudaGetErrorString(cuerr));\n",
        "        return 0;\n",
        "    }\n",
        "\n",
        "    int* bdev = NULL;\n",
        "    cuerr = cudaMalloc((void**)&bdev, n2b);\n",
        "    if (cuerr != cudaSuccess)\n",
        "    {\n",
        "        fprintf(stderr, \"Cannot allocate device array for b: %s\\n\",\n",
        "            cudaGetErrorString(cuerr));\n",
        "        return 0;\n",
        "    }\n",
        "\n",
        "    int* cdev = NULL;\n",
        "    cuerr = cudaMalloc((void**)&cdev, n2b);\n",
        "    if (cuerr != cudaSuccess)\n",
        "    {\n",
        "        fprintf(stderr, \"Cannot allocate device array for c: %s\\n\",\n",
        "            cudaGetErrorString(cuerr));\n",
        "        return 0;\n",
        "    }\n",
        "\n",
        "    // Создание обработчиков событий\n",
        "    cudaEvent_t start, stop;\n",
        "    float gpuTime = 0.0f;\n",
        "    cuerr = cudaEventCreate(&start);\n",
        "    if (cuerr != cudaSuccess)\n",
        "    {\n",
        "        fprintf(stderr, \"Cannot create CUDA start event: %s\\n\",\n",
        "            cudaGetErrorString(cuerr));\n",
        "        return 0;\n",
        "    }\n",
        "\n",
        "    cuerr = cudaEventCreate(&stop);\n",
        "    if (cuerr != cudaSuccess)\n",
        "    {\n",
        "        fprintf(stderr, \"Cannot create CUDA end event: %s\\n\",\n",
        "            cudaGetErrorString(cuerr));\n",
        "        return 0;\n",
        "    }\n",
        "\n",
        "    // Копирование данных с хоста на девайс\n",
        "    cuerr = cudaMemcpy(adev, a, n2b, cudaMemcpyHostToDevice);\n",
        "    if (cuerr != cudaSuccess)\n",
        "    {\n",
        "        fprintf(stderr, \"Cannot copy a array from host to device: %s\\n\",\n",
        "            cudaGetErrorString(cuerr));\n",
        "        return 0;\n",
        "    }\n",
        "\n",
        "    cuerr = cudaMemcpy(bdev, b, n2b, cudaMemcpyHostToDevice);\n",
        "    if (cuerr != cudaSuccess)\n",
        "    {\n",
        "        fprintf(stderr, \"Cannot copy b array from host to device: %s\\n\",\n",
        "            cudaGetErrorString(cuerr));\n",
        "        return 0;\n",
        "    }\n",
        "\n",
        "    // Установка точки старта\n",
        "    cuerr = cudaEventRecord(start, 0);\n",
        "    if (cuerr != cudaSuccess)\n",
        "    {\n",
        "        fprintf(stderr, \"Cannot record CUDA event: %s\\n\",\n",
        "            cudaGetErrorString(cuerr));\n",
        "        return 0;\n",
        "    }\n",
        "\n",
        "    //Запуск ядра\n",
        "    kernel << < GRID_SIZE, BLOCK_SIZE >> > (cdev, adev, bdev, n);\n",
        "\n",
        "    cuerr = cudaGetLastError();\n",
        "    if (cuerr != cudaSuccess)\n",
        "    {\n",
        "        fprintf(stderr, \"Cannot launch CUDA kernel: %s\\n\",\n",
        "            cudaGetErrorString(cuerr));\n",
        "        return 0;\n",
        "    }\n",
        "\n",
        "    // Синхронизация устройств\n",
        "    cuerr = cudaDeviceSynchronize();\n",
        "    if (cuerr != cudaSuccess)\n",
        "    {\n",
        "        fprintf(stderr, \"Cannot synchronize CUDA kernel: %s\\n\",\n",
        "            cudaGetErrorString(cuerr));\n",
        "        return 0;\n",
        "    }\n",
        "\n",
        "    // Установка точки окончания\n",
        "    cuerr = cudaEventRecord(stop, 0);\n",
        "    if (cuerr != cudaSuccess)\n",
        "    {\n",
        "        fprintf(stderr, \"Cannot copy c array from device to host: %s\\n\",\n",
        "            cudaGetErrorString(cuerr));\n",
        "        return 0;\n",
        "    }\n",
        "\n",
        "    // Копирование результата на хост\n",
        "    cuerr = cudaMemcpy(c, cdev, n2b, cudaMemcpyDeviceToHost);\n",
        "    if (cuerr != cudaSuccess)\n",
        "    {\n",
        "        fprintf(stderr, \"Cannot copy c array from device to host: %s\\n\",\n",
        "            cudaGetErrorString(cuerr));\n",
        "        return 0;\n",
        "    }\n",
        "\n",
        "    // Расчет времени\n",
        "    cuerr = cudaEventElapsedTime(&gpuTime, start, stop);\n",
        "    printf(\"time spent executing %s: %.9f seconds\\n\", \"kernel\", gpuTime / 1000);\n",
        "\n",
        "    // Очищение памяти\n",
        "    cudaEventDestroy(start);\n",
        "    cudaEventDestroy(stop);\n",
        "    cudaFree(adev);\n",
        "    cudaFree(bdev);\n",
        "    cudaFree(cdev);\n",
        "\n",
        "    free(a);\n",
        "    free(b);\n",
        "    free(c);\n",
        "\n",
        "\n",
        "    return 0;\n",
        "}\n"
      ],
      "metadata": {
        "id": "e-CvMN5fdR1N",
        "colab": {
          "base_uri": "https://localhost:8080/",
          "height": 35
        },
        "outputId": "7a7e7e09-7e60-4486-8469-4a7b5b3b66d5"
      },
      "execution_count": null,
      "outputs": [
        {
          "output_type": "execute_result",
          "data": {
            "text/plain": [
              "'File written in /content/src/curand.cu'"
            ],
            "application/vnd.google.colaboratory.intrinsic+json": {
              "type": "string"
            }
          },
          "metadata": {},
          "execution_count": 144
        }
      ]
    },
    {
      "cell_type": "code",
      "source": [
        "!nvcc -o /content/src/curand /content/src/curand.cu -lcurand -lcublas\n"
      ],
      "metadata": {
        "id": "J2819XUHgrQa"
      },
      "execution_count": null,
      "outputs": []
    },
    {
      "cell_type": "code",
      "source": [
        "!/content/src/curand"
      ],
      "metadata": {
        "colab": {
          "base_uri": "https://localhost:8080/"
        },
        "id": "vsQ77WFr6FDz",
        "outputId": "13d6a7df-2acd-48c1-eeb0-cf3791e401fd"
      },
      "execution_count": null,
      "outputs": [
        {
          "output_type": "stream",
          "name": "stdout",
          "text": [
            "time spent executing kernel: 0.000058400 seconds\n"
          ]
        }
      ]
    },
    {
      "cell_type": "code",
      "source": [
        "%%cuda --name consistently.cu\n",
        "#include <math.h>\n",
        "#include <stdio.h>\n",
        "#include <stdlib.h>\n",
        "#include <iostream>\n",
        "#include <chrono>\n",
        "using std::chrono::duration;\n",
        "using std::chrono::duration_cast;\n",
        "using std::chrono::high_resolution_clock;\n",
        "\n",
        "//int, 2 400 000 (+7), [2, 4, 8], 28\n",
        "int main()\n",
        "{\n",
        "\tint T = 12, Q = 1;\n",
        "\tdouble timeCount = 0;\n",
        "\tint NMAX = 600000;\n",
        "\n",
        "\tfor (int t = 0; t < 12; t++) {\n",
        "\n",
        "\t\tint* a = new int[NMAX];\n",
        "\t\tint* sum = new int[NMAX];\n",
        "\t\tint* b = new int[NMAX];\n",
        "\n",
        "\t\tfor (int i = 0; i < NMAX; i++) {\n",
        "\t\t\ta[i] = 1;\n",
        "\t\t\tb[i] = 1;\n",
        "\t\t}\n",
        "\n",
        "\t\t\n",
        "\n",
        "\t\tconst auto startTime = high_resolution_clock::now();\n",
        "\t\t//for (int n = 0; n < N;n++) {\n",
        "\t\t\t\n",
        "\t\t\tfor (int i = 0; i < NMAX; i++) {\n",
        "\t\t\t\tfor (int q = 0; q < Q; q++) {\n",
        "\t\t\t\t\tsum[i] = a[i] + b[i];\n",
        "\t\t\t\t}\n",
        "\t\t\t}\n",
        "\t\t//}\n",
        "\t\tconst auto endTime = high_resolution_clock::now();\n",
        "\t\tstd::chrono::duration<double> diff = endTime - startTime;\n",
        "\t\ttimeCount+=diff.count();\n",
        "    delete[] a;\n",
        "\t\tdelete[] b;\n",
        "\t\tdelete[] sum;\n",
        "  }\n",
        "    std::cout << \"Time \" << timeCount/T << \" s\\n\";\n",
        "\n",
        "\t\t\n",
        "\t//}\n",
        "\n",
        "\treturn 0;\n",
        "}"
      ],
      "metadata": {
        "colab": {
          "base_uri": "https://localhost:8080/",
          "height": 35
        },
        "id": "Ot-nMcd-CPiz",
        "outputId": "f83d7c18-388e-4bf8-c652-26d00ac2ceec"
      },
      "execution_count": null,
      "outputs": [
        {
          "output_type": "execute_result",
          "data": {
            "text/plain": [
              "'File written in /content/src/consistently.cu'"
            ],
            "application/vnd.google.colaboratory.intrinsic+json": {
              "type": "string"
            }
          },
          "metadata": {},
          "execution_count": 126
        }
      ]
    },
    {
      "cell_type": "code",
      "source": [
        "!nvcc -o /content/src/consistently /content/src/consistently.cu -lcurand -lcublas"
      ],
      "metadata": {
        "id": "hm4BhwMeDTS1"
      },
      "execution_count": null,
      "outputs": []
    },
    {
      "cell_type": "code",
      "source": [
        "!/content/src/consistently"
      ],
      "metadata": {
        "colab": {
          "base_uri": "https://localhost:8080/"
        },
        "id": "uAk5U_2qD_nE",
        "outputId": "b8881056-a4f4-4cdf-bf45-12ca13720f68"
      },
      "execution_count": null,
      "outputs": [
        {
          "output_type": "stream",
          "name": "stdout",
          "text": [
            "Time 0.00215753 s\n"
          ]
        }
      ]
    }
  ]
}